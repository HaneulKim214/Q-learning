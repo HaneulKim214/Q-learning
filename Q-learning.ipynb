{
 "cells": [
  {
   "cell_type": "code",
   "execution_count": 114,
   "id": "respected-endorsement",
   "metadata": {},
   "outputs": [],
   "source": [
    "import gym\n",
    "import numpy as np\n",
    "import time"
   ]
  },
  {
   "cell_type": "code",
   "execution_count": 2,
   "id": "important-timber",
   "metadata": {},
   "outputs": [],
   "source": [
    "env = gym.make('CartPole-v1')"
   ]
  },
  {
   "cell_type": "markdown",
   "id": "answering-pendant",
   "metadata": {},
   "source": [
    "Goal of Reinforcement learning is to find an optimal policy that will lead to most reward.\n",
    "\n",
    "In this tutorial we will go from random sampling to Q-learning which is a model-free learning. By going step by step we will clearly understand limitations of each methods."
   ]
  },
  {
   "cell_type": "markdown",
   "id": "literary-diagram",
   "metadata": {},
   "source": [
    "#### Policy 1: Random Sampling"
   ]
  },
  {
   "cell_type": "markdown",
   "id": "cardiovascular-customer",
   "metadata": {},
   "source": [
    "In our example of CartPole-v1, there are only two actions at any given state therefore we will pick \"left\" or \"right\" at random."
   ]
  },
  {
   "cell_type": "code",
   "execution_count": 84,
   "id": "spanish-adobe",
   "metadata": {},
   "outputs": [],
   "source": [
    "def random_policy():\n",
    "    action = np.random.choice(env.action_space.n)\n",
    "    return action"
   ]
  },
  {
   "cell_type": "code",
   "execution_count": 116,
   "id": "illegal-campaign",
   "metadata": {},
   "outputs": [],
   "source": [
    "done = False\n",
    "final_reward, n_moves = 0.0, 0\n",
    "state = env.reset()\n",
    "env.render()\n",
    "\n",
    "while not done:\n",
    "    action = random_policy()\n",
    "    next_s, reward, done, info = env.step(action)\n",
    "    n_moves += 1\n",
    "    env.render()\n",
    "    time.sleep(0.05)"
   ]
  },
  {
   "cell_type": "markdown",
   "id": "widespread-england",
   "metadata": {},
   "source": [
    "#### Policy 2: Follow tilt\n",
    "\n",
    "This policy makes cart move in the direction of the pole "
   ]
  },
  {
   "cell_type": "code",
   "execution_count": 117,
   "id": "ethical-italic",
   "metadata": {},
   "outputs": [],
   "source": [
    "def follow_tilt(state):\n",
    "    return None\n",
    "    \n",
    "final_reward, n_moves = 0.0, 0\n",
    "state = env.reset()\n",
    "env.render()\n",
    "\n",
    "action = follow_tilt(state)\n",
    "# next_s, reward, done, info = env.step(action)\n",
    "# n_moves += 1\n",
    "# env.render()\n",
    "# time.sleep(0.05)"
   ]
  },
  {
   "cell_type": "code",
   "execution_count": 119,
   "id": "technological-adelaide",
   "metadata": {},
   "outputs": [
    {
     "data": {
      "text/plain": [
       "array([-0.01695647, -0.04186207, -0.04769807,  0.01397287])"
      ]
     },
     "execution_count": 119,
     "metadata": {},
     "output_type": "execute_result"
    }
   ],
   "source": [
    "state"
   ]
  }
 ],
 "metadata": {
  "kernelspec": {
   "display_name": "Python 3",
   "language": "python",
   "name": "python3"
  },
  "language_info": {
   "codemirror_mode": {
    "name": "ipython",
    "version": 3
   },
   "file_extension": ".py",
   "mimetype": "text/x-python",
   "name": "python",
   "nbconvert_exporter": "python",
   "pygments_lexer": "ipython3",
   "version": "3.8.5"
  },
  "toc": {
   "base_numbering": 1,
   "nav_menu": {},
   "number_sections": true,
   "sideBar": true,
   "skip_h1_title": false,
   "title_cell": "Table of Contents",
   "title_sidebar": "Contents",
   "toc_cell": false,
   "toc_position": {},
   "toc_section_display": true,
   "toc_window_display": false
  }
 },
 "nbformat": 4,
 "nbformat_minor": 5
}
